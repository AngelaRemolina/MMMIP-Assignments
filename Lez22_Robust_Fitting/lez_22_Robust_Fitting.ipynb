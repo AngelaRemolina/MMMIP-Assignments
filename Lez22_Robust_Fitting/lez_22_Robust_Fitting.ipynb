{
 "cells": [
  {
   "cell_type": "markdown",
   "metadata": {},
   "source": [
    "## Intro"
   ]
  },
  {
   "cell_type": "code",
   "execution_count": 6,
   "metadata": {
    "id": "_oVFv1gmYqBI"
   },
   "outputs": [],
   "source": [
    "import numpy as np\n",
    "from matplotlib import pyplot as plt\n",
    "from scipy.stats import median_abs_deviation as mad\n",
    "import time"
   ]
  },
  {
   "cell_type": "markdown",
   "metadata": {
    "id": "220iCa0GYuqi"
   },
   "source": [
    "Useful function for the plot"
   ]
  },
  {
   "cell_type": "code",
   "execution_count": 65,
   "metadata": {
    "id": "lDsdahk2YwYb"
   },
   "outputs": [],
   "source": [
    "def display_band(X, par, epsi=0.001, col=\"k\"):\n",
    "    x1 = np.min(X[0, :])\n",
    "    x2 = np.max(X[0, :])\n",
    "    y1 = np.min(X[1, :])\n",
    "    y2 = np.max(X[1, :])\n",
    "\n",
    "    # extend the line for the k# of its lenght\n",
    "    k = 0.01\n",
    "    dx = x2 - x1\n",
    "    dy = y2 - y1\n",
    "    l = np.sqrt(dx**2 + dy**2)\n",
    "    x1 = x1 - k * l\n",
    "    x2 = x2 + k * l\n",
    "    y1 = y1 - k * l\n",
    "    y2 = y2 + k * l\n",
    "    ##\n",
    "    if np.abs(par[1]) < 2e-2:\n",
    "        # disp('vertical line')\n",
    "        a = np.vstack([-(par[1] * y1 + par[2]) / par[0], y1])\n",
    "        b = np.vstack([-(par[1] * y2 + par[2]) / par[0], y2])\n",
    "    else:\n",
    "        a = np.vstack([x1, -(par[0] * x1 + par[2]) / par[1]])\n",
    "        b = np.vstack([x2, -(par[0] * x2 + par[2]) / par[1]])\n",
    "\n",
    "    if np.abs(par[0]) < 1e-5:\n",
    "        v = np.array([0, 1])\n",
    "    else:\n",
    "        v = np.array([1, par[1] / par[0]])  # direction perpendicular to the line;\n",
    "\n",
    "    v = v / np.sqrt(np.sum(v**2))\n",
    "    # corners of the bands\n",
    "    v = v[:, np.newaxis]\n",
    "    a1 = a - epsi * v\n",
    "    a2 = a + epsi * v\n",
    "    b1 = b - epsi * v\n",
    "    b2 = b + epsi * v\n",
    "\n",
    "    px = np.array([a1[0], b1[0], b2[0], a2[0]]).squeeze()\n",
    "    py = np.array([a1[1], b1[1], b2[1], a2[1]]).squeeze()\n",
    "    plt.tricontourf(px, py, np.ones_like(px), colors=col, alpha=0.5)\n",
    "    plt.gca().set_aspect(\"equal\")"
   ]
  },
  {
   "cell_type": "markdown",
   "metadata": {
    "id": "HLaSC6YRYxeu"
   },
   "source": [
    "Function that computes the residual between points and a line"
   ]
  },
  {
   "cell_type": "code",
   "execution_count": 8,
   "metadata": {
    "id": "fWOC3YBgY2KN"
   },
   "outputs": [],
   "source": [
    "def res_line(X, M):\n",
    "    if len(M.shape) > 1:\n",
    "        num_lines = M.shape[1]\n",
    "    else:\n",
    "        num_lines = 1\n",
    "\n",
    "    if num_lines == 1:\n",
    "        d = np.abs(M[0] * X[0, :] + M[1] * X[1, :] + M[2])\n",
    "    else:\n",
    "        n = X.shape[1]\n",
    "        d = np.zeros((n, num_lines))\n",
    "        for i in range(num_lines):\n",
    "            d[:, i] = np.abs(M[0, i] * X[0, :] + M[1, i] * X[1, :] + M[2, i])"
   ]
  },
  {
   "cell_type": "markdown",
   "metadata": {},
   "source": [
    "## OLS y DLT"
   ]
  },
  {
   "cell_type": "markdown",
   "metadata": {
    "id": "lJoHOD3VY86w"
   },
   "source": [
    "Implement the following function, that computes the solution of the overdetermined system\n",
    "\n",
    "$$\\underset{A}{\\text{argmin}} \\| A\\mathbf x - \\mathbf y\\|_2^2$$\n",
    "\n",
    "via OLS and DLT\n",
    "\n",
    "The input $P=[[x_1, y_1], \\dots,[x_N,y_N]]$ collects the points where the line $y = mx+q$ should pass through\n"
   ]
  },
  {
   "cell_type": "code",
   "execution_count": 87,
   "metadata": {
    "id": "T0LJu3mcY8el"
   },
   "outputs": [],
   "source": [
    "def fit_line_ols(P):\n",
    "    # design matrix\n",
    "    ones_column = np.ones((P.shape[1], 1))\n",
    "    A = np.concatenate((P.T, ones_column), axis=1) # A = [[x1,y1,1],[x2,y2,1],...,[xn,yn,1]]\n",
    "    X = A[:, [0, 2]]  # X = [[x1,1],[x2,1],...,[xn,1]]\n",
    "\n",
    "    # vector of responses\n",
    "    y = A[:, 1]\n",
    "\n",
    "    # straight line coefficient\n",
    "    theta = np.linalg.inv(X.T @ X) @ (X.T @ y)\n",
    "\n",
    "    residuals = y - (X @ theta)\n",
    "    residual_error = np.sum(residuals**2)\n",
    "    return theta, residuals, residual_error"
   ]
  },
  {
   "cell_type": "code",
   "execution_count": 72,
   "metadata": {
    "id": "2rd8V9xXa9u2"
   },
   "outputs": [],
   "source": [
    "def fit_line_dlt(P):\n",
    "    # design matrix\n",
    "    ones_column = np.ones((P.shape[1], 1))\n",
    "    A = np.concatenate((P.T, ones_column), axis=1) # A = [[x1,y1,1],[x2,y2,1],...,[xn,yn,1]]\n",
    "    \n",
    "    # vector of responses\n",
    "    y = P.T[:, 1]\n",
    "\n",
    "    _, _, V = np.linalg.svd(A, full_matrices=False)\n",
    "\n",
    "    theta = V[:, -1]\n",
    "    print(theta.shape)\n",
    "    residuals = A @ theta\n",
    "    residual_error = np.sum(residuals**2)\n",
    "\n",
    "    return theta, residuals, residual_error"
   ]
  },
  {
   "cell_type": "markdown",
   "metadata": {
    "id": "6hPNqD9lbMYH"
   },
   "source": [
    "Robust Fitting Methods\n",
    "----------------------\n",
    "Implements the following methods:"
   ]
  },
  {
   "cell_type": "code",
   "execution_count": null,
   "metadata": {
    "id": "PgO8DEbqbTM-"
   },
   "outputs": [],
   "source": [
    "def simpleRANSAC(X, eps, cardmss=2):\n",
    "    \"\"\"\n",
    "    SIMPLERANSAC - Robust fit with the LMEDS algorithm\n",
    "    X: matrix containing (x,y) coordinates of shape [num_features x num_samples]\n",
    "    \"\"\"\n",
    "    # number of samples in the dataset\n",
    "    n = X.shape[1]\n",
    "    # Desired probability of success\n",
    "    alpha = 0.99\n",
    "\n",
    "    # Pessimistic estimate of inliers fraction\n",
    "    f = 0.5\n",
    "\n",
    "    # set maximum number of iterations\n",
    "    # MaxIterations =\n",
    "\n",
    "    # set maximum consensus reached\n",
    "    # maxscore =\n",
    "\n",
    "    for i in range(MaxIterations):\n",
    "\n",
    "        # Generate cardmss random indices in the range 0..n-1\n",
    "        rand_choice = np.random.choice(n, cardmss, replace=False)\n",
    "        mss = X[:, rand_choice]\n",
    "\n",
    "        # Fit model to this minimal sample set.\n",
    "        # theta =\n",
    "\n",
    "        # Evaluate distances between points and model\n",
    "        # sqres =\n",
    "\n",
    "        # identify inliers: consensus set\n",
    "        # inliers =\n",
    "\n",
    "        # assess consensus (the number of inliers)\n",
    "        # score =\n",
    "\n",
    "        # replace maxscore, bestinliers and bestmodel if needed\n",
    "        # maxscore =\n",
    "        # bestinliers =\n",
    "        # bestmodel =\n",
    "\n",
    "    return bestmodel, bestinliers"
   ]
  },
  {
   "cell_type": "code",
   "execution_count": null,
   "metadata": {
    "id": "GYmX-Aoubblu"
   },
   "outputs": [],
   "source": [
    "def simpleMSAC(X, eps, cardmss=2):\n",
    "    n = X.shape[1]\n",
    "    alpha = 0.99  # Desired probability of success\n",
    "    f = 0.5  # Pessimistic estimate of inliers fraction\n",
    "\n",
    "    # set maximum number of iterations\n",
    "    # MaxIterations =\n",
    "\n",
    "    # set maximum consensus reached\n",
    "    # mincost =\n",
    "\n",
    "    for i in range(MaxIterations):\n",
    "        # Generate cardmss random indices in the range 0..n-1\n",
    "        # mss =\n",
    "\n",
    "        # Fit model to this minimal sample set.\n",
    "        # theta =\n",
    "\n",
    "        # Evaluate distances between points and model\n",
    "        # sqres =\n",
    "\n",
    "        # identify inliers: consensus set\n",
    "        inliers = np.where(sqres <= eps)[0]\n",
    "\n",
    "        # Compute MSAC score\n",
    "        # cost =\n",
    "\n",
    "        # replace mincost, bestinliers and bestmodel if needed\n",
    "        #  mincost =\n",
    "        #  bestinliers =\n",
    "        #  bestmodel =\n",
    "\n",
    "    return bestmodel, bestinliers"
   ]
  },
  {
   "cell_type": "code",
   "execution_count": null,
   "metadata": {
    "id": "g2PkbyHfbnff"
   },
   "outputs": [],
   "source": [
    "def simpleLMEDS(X, cardmss=2):\n",
    "    n = X.shape[1]\n",
    "    alpha = 0.99  # Desired probability of success\n",
    "    f = 0.5  # Pessimistic estimate of inliers fraction\n",
    "\n",
    "    # set maximum number of iterations\n",
    "    # MaxIterations =\n",
    "\n",
    "    # set maximum consensus reached\n",
    "    # mincost =\n",
    "\n",
    "    for i in range(MaxIterations):\n",
    "        # Generate cardmss random indicies in the range 0..n-1\n",
    "        # mss =\n",
    "\n",
    "        # Fit model to this minimal sample set.\n",
    "        # theta =\n",
    "\n",
    "        # Evaluate distances between points and model\n",
    "        # sqres =\n",
    "\n",
    "        # Compute LMS score\n",
    "        # cost =\n",
    "\n",
    "        # define inliner threshold (does make sense only when the model provides a good fit)\n",
    "        # compute the standard deviation of distances (you can use MAD)\n",
    "        # scale =\n",
    "\n",
    "        # instead of 3-sigma rule, we do 2.5-sigma rule. sqres is already squares\n",
    "        inliers = np.where(sqres < 2.5 * scale)[0]\n",
    "\n",
    "        # replace mincost, bestinliers and bestmodel if needed\n",
    "        # mincost =\n",
    "        # bestinliers =\n",
    "        # bestmodel =\n",
    "\n",
    "    return bestmodel, bestinliers"
   ]
  },
  {
   "cell_type": "markdown",
   "metadata": {
    "id": "Et7mNaaqbx-N"
   },
   "source": [
    "Fitting over noisy data\n",
    "-----------------------\n",
    "Set the parameters and generate the dataset"
   ]
  },
  {
   "cell_type": "code",
   "execution_count": 73,
   "metadata": {
    "id": "QM7aTHVHb2yk"
   },
   "outputs": [],
   "source": [
    "cardmss = 2  # minimum number of points required to fit a model\n",
    "\n",
    "# plotting params\n",
    "BAND_WIDTH = 0.05\n",
    "BAND_COLOR = \"b\"\n",
    "\n",
    "# create noisy dataset\n",
    "x = np.linspace(0, 1, 100)\n",
    "y = 1.5 * x + 1\n",
    "X = np.vstack((x, y))\n",
    "sigma = 0.01\n",
    "X = X + sigma * np.random.normal(size=X.shape)"
   ]
  },
  {
   "cell_type": "markdown",
   "metadata": {
    "id": "gRDxo4GSb5jN"
   },
   "source": [
    "Least square fit to noisy data"
   ]
  },
  {
   "cell_type": "code",
   "execution_count": 93,
   "metadata": {
    "id": "ZK2bUp6-b9XU"
   },
   "outputs": [
    {
     "name": "stdout",
     "output_type": "stream",
     "text": [
      "(2,)\n",
      "(100,)\n"
     ]
    },
    {
     "data": {
      "image/png": "[encoded data removed]",
      "text/plain": [
       "<Figure size 640x480 with 1 Axes>"
      ]
     },
     "metadata": {},
     "output_type": "display_data"
    }
   ],
   "source": [
    "model_OLS = fit_line_ols(X)\n",
    "print(model_OLS[0].shape)\n",
    "print(model_OLS[1].shape)\n",
    "plt.figure()\n",
    "plt.scatter(X[0, :], X[1, :])\n",
    "# plt.plot([0, 1], [model_OLS[1], model_OLS[0] + model_OLS[1]], \"violet\", linewidth=3) #doesnt work (theta = 2 rows) (residual = 100 rows)\n",
    "plt.title(\"ols model\")\n",
    "plt.show()"
   ]
  },
  {
   "cell_type": "markdown",
   "metadata": {
    "id": "syOCbX7mcBZn"
   },
   "source": [
    "Least square fit via DLT (different model parametrization)"
   ]
  },
  {
   "cell_type": "code",
   "execution_count": 64,
   "metadata": {
    "id": "Em1B0bIGcC51"
   },
   "outputs": [
    {
     "name": "stdout",
     "output_type": "stream",
     "text": [
      "(3,)\n"
     ]
    },
    {
     "data": {
      "image/png": "[encoded data removed]",
      "text/plain": [
       "<Figure size 1500x500 with 1 Axes>"
      ]
     },
     "metadata": {},
     "output_type": "display_data"
    }
   ],
   "source": [
    "model_DLT = fit_line_dlt(X)\n",
    "plt.figure(figsize=(15, 5))\n",
    "plt.scatter(X[0, :], X[1, :])\n",
    "# display_band(X, model_DLT, BAND_WIDTH, BAND_COLOR) # doesn't work\n",
    "plt.title(\"dlt model\")\n",
    "plt.show()"
   ]
  },
  {
   "cell_type": "markdown",
   "metadata": {
    "id": "o0_h-LoFcJEG"
   },
   "source": [
    "Add a single outlier to the data, obtaining a new dataset $X_{out}$"
   ]
  },
  {
   "cell_type": "code",
   "execution_count": null,
   "metadata": {
    "id": "4qVzH_I7cLe1"
   },
   "outputs": [],
   "source": [
    "# X_out ="
   ]
  },
  {
   "cell_type": "markdown",
   "metadata": {
    "id": "8fkiOOXzcNSI"
   },
   "source": [
    "Least square fit to noisy data with a single outlier"
   ]
  },
  {
   "cell_type": "code",
   "execution_count": null,
   "metadata": {
    "id": "NU5_9ju_cRoN"
   },
   "outputs": [],
   "source": [
    "# model_OLS =\n",
    "plt.figure()\n",
    "plt.scatter(X_out[0, :], X_out[1, :])\n",
    "plt.plot([0, 1], [model_OLS[1], model_OLS[0] + model_OLS[1]], \"violet\", linewidth=3)\n",
    "plt.title(\"ls model\")\n",
    "plt.show()"
   ]
  },
  {
   "cell_type": "markdown",
   "metadata": {
    "id": "BoRf1iY8cW-Y"
   },
   "source": [
    "Least square fit via DLT to noisy data with a single outlier"
   ]
  },
  {
   "cell_type": "code",
   "execution_count": null,
   "metadata": {
    "id": "fTGz0wuecUbH"
   },
   "outputs": [],
   "source": [
    "# model_DLT =\n",
    "\n",
    "plt.figure()\n",
    "plt.scatter(X_out[0, :], X_out[1, :])\n",
    "display_band(X_out, model_DLT, BAND_WIDTH, BAND_COLOR)\n",
    "plt.title(\"dlt model with outliers\")\n",
    "plt.show()"
   ]
  },
  {
   "cell_type": "markdown",
   "metadata": {
    "id": "PkDc1bccccwV"
   },
   "source": [
    "Add many outliers to the noisy data"
   ]
  },
  {
   "cell_type": "code",
   "execution_count": null,
   "metadata": {
    "id": "-mUtLIjRcgVJ"
   },
   "outputs": [],
   "source": [
    "n_out = 50\n",
    "# X_out ="
   ]
  },
  {
   "cell_type": "markdown",
   "metadata": {
    "id": "nnN1qFwxchc-"
   },
   "source": [
    "Least square fit"
   ]
  },
  {
   "cell_type": "code",
   "execution_count": null,
   "metadata": {
    "id": "0gcN-_vXcjNP"
   },
   "outputs": [],
   "source": [
    "# model_OLS =\n",
    "\n",
    "plt.figure()\n",
    "plt.scatter(X_out[0, :], X_out[1, :])\n",
    "plt.plot([0, 1], [model_OLS[1], model_OLS[0] + model_OLS[1]], \"violet\", linewidth=3)\n",
    "plt.title(\"ls model\")\n",
    "plt.show()"
   ]
  },
  {
   "cell_type": "markdown",
   "metadata": {
    "id": "w5UEREX9cl2P"
   },
   "source": [
    "Least square via DLT"
   ]
  },
  {
   "cell_type": "code",
   "execution_count": null,
   "metadata": {
    "id": "rL-kokX2cnL2"
   },
   "outputs": [],
   "source": [
    "# model_DLT =\n",
    "\n",
    "plt.figure()\n",
    "plt.scatter(X_out[0, :], X_out[1, :])\n",
    "display_band(X_out, model_DLT, BAND_WIDTH, BAND_COLOR)\n",
    "plt.title(\"noisy and outlier contaminated data\")\n",
    "plt.show()"
   ]
  },
  {
   "cell_type": "markdown",
   "metadata": {
    "id": "vCVz8AnlcqkA"
   },
   "source": [
    "Robust Fitting methods\n",
    "----------------------\n",
    "Use Ransac, M-Sac and L-Meds to perform fitting on data with many outliers\n",
    "\n",
    "Ransac:\n"
   ]
  },
  {
   "cell_type": "code",
   "execution_count": null,
   "metadata": {
    "id": "oXHyE61ic3p1"
   },
   "outputs": [],
   "source": [
    "epsi = 3 * sigma  # define inlier threshold\n",
    "\n",
    "# invoke simpleRANSAC\n",
    "# bestmodel, bestinliers =\n",
    "\n",
    "# refine model estimates\n",
    "# refinedModel =\n",
    "\n",
    "plt.figure()\n",
    "plt.scatter(X_out[0, :], X_out[1, :])\n",
    "display_band(X_out, refinedModel, epsi, BAND_COLOR)\n",
    "plt.title(\"ransac model\")\n",
    "plt.show()"
   ]
  },
  {
   "cell_type": "markdown",
   "metadata": {
    "id": "xUEq9xMKc_pK"
   },
   "source": [
    "M-Sac:"
   ]
  },
  {
   "cell_type": "code",
   "execution_count": null,
   "metadata": {
    "id": "n25Lsee1dA8c"
   },
   "outputs": [],
   "source": [
    "# bestmodel, bestinliers =\n",
    "\n",
    "# refine model estimates\n",
    "# refinedModel =\n",
    "\n",
    "plt.figure()\n",
    "plt.scatter(X_out[0, :], X_out[1, :])\n",
    "display_band(X_out, refinedModel, epsi, BAND_COLOR)\n",
    "plt.title(\"MSAC model\")\n",
    "plt.show()"
   ]
  },
  {
   "cell_type": "markdown",
   "metadata": {
    "id": "Lqqh7XW4dGOV"
   },
   "source": [
    "L-Meds:"
   ]
  },
  {
   "cell_type": "code",
   "execution_count": null,
   "metadata": {
    "id": "odh41cnsdHXO"
   },
   "outputs": [],
   "source": [
    "# invoke simpleLMEDS\n",
    "# bestmodel, bestinliers =\n",
    "\n",
    "# refine model estimates\n",
    "# refinedModel =\n",
    "\n",
    "plt.figure()\n",
    "plt.scatter(X_out[0, :], X_out[1, :])\n",
    "display_band(X_out, refinedModel, epsi, BAND_COLOR)\n",
    "plt.title(\"lmeds model\")\n",
    "plt.show()"
   ]
  }
 ],
 "metadata": {
  "colab": {
   "authorship_tag": "ABX9TyPIV7A7Z93EEE31KnzvPj9r",
   "provenance": []
  },
  "kernelspec": {
   "display_name": "Python 3 (ipykernel)",
   "language": "python",
   "name": "python3"
  },
  "language_info": {
   "codemirror_mode": {
    "name": "ipython",
    "version": 3
   },
   "file_extension": ".py",
   "mimetype": "text/x-python",
   "name": "python",
   "nbconvert_exporter": "python",
   "pygments_lexer": "ipython3",
   "version": "3.11.7"
  }
 },
 "nbformat": 4,
 "nbformat_minor": 4
}
