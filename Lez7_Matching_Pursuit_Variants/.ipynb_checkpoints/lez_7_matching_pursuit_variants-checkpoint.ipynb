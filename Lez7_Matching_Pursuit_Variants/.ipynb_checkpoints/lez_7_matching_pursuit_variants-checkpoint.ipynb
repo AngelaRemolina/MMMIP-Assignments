{
 "cells": [
  {
   "cell_type": "code",
   "execution_count": 12,
   "metadata": {
    "id": "opwp5eU9E-8f"
   },
   "outputs": [],
   "source": [
    "import numpy as np\n",
    "from matplotlib import pyplot as plt\n",
    "import scipy as sp\n",
    "from scipy.fftpack import idct\n"
   ]
  },
  {
   "cell_type": "markdown",
   "metadata": {
    "id": "7j9pcXTvFl_h"
   },
   "source": [
    "Variable initialization"
   ]
  },
  {
   "cell_type": "code",
   "execution_count": 13,
   "metadata": {
    "id": "u7PgrQa4Fkln"
   },
   "outputs": [],
   "source": [
    "M = 32 # signal dimension\n",
    "N = 2 * M # number of atoms in the expansion\n",
    "\n",
    "\n",
    "C = np.zeros((M, M)) # matrix containing the standard basis (a kronecker delta in each column)\n",
    "DCT = np.zeros((M, M)) #matrix containing the DCT basis (a DCT function in each column)"
   ]
  },
  {
   "cell_type": "markdown",
   "metadata": {
    "id": "-NB1-MvmFsot"
   },
   "source": [
    "Generate the 1D-DCT basis"
   ]
  },
  {
   "cell_type": "code",
   "execution_count": 14,
   "metadata": {
    "id": "Rey7kIlUF22r"
   },
   "outputs": [],
   "source": [
    "for i in range(M):\n",
    "    a = np.zeros(M)\n",
    "    a[i] = 1\n",
    "    temp = np.reshape(idct(a),-1)\n",
    "    norm = np.linalg.norm(temp)\n",
    "    DCT[:, i] = temp/norm\n"
   ]
  },
  {
   "cell_type": "markdown",
   "metadata": {
    "id": "xJV-_dFw1XCf"
   },
   "source": [
    "Generating the 1-D standard basis"
   ]
  },
  {
   "cell_type": "code",
   "execution_count": 15,
   "metadata": {
    "id": "NzxgsbAn1TYl"
   },
   "outputs": [],
   "source": [
    "for i in range(M):\n",
    "    a = np.zeros(M)\n",
    "    a[i]=1\n",
    "    C[:, i] = a\n"
   ]
  },
  {
   "cell_type": "markdown",
   "metadata": {
    "id": "ps3YDsYVBlG9"
   },
   "source": [
    "Define the dictionary $D = [DCT, C]$"
   ]
  },
  {
   "cell_type": "code",
   "execution_count": 16,
   "metadata": {
    "id": "dj_bmbLx1Y6J"
   },
   "outputs": [
    {
     "data": {
      "text/plain": [
       "Text(0.5, 1.0, 'Our dictionary M = 32, N = 64')"
      ]
     },
     "execution_count": 16,
     "metadata": {},
     "output_type": "execute_result"
    },
    {
     "data": {
      "image/png": "[encoded data removed]",
      "text/plain": [
       "<Figure size 1000x1000 with 1 Axes>"
      ]
     },
     "metadata": {},
     "output_type": "display_data"
    }
   ],
   "source": [
    "D = np.hstack((DCT, C))\n",
    "\n",
    "plt.figure(figsize=(10,10))\n",
    "plt.imshow(D)\n",
    "plt.title(f'Our dictionary M = {M}, N = {N}')"
   ]
  },
  {
   "cell_type": "markdown",
   "metadata": {
    "id": "Cq78PWSDFw7G"
   },
   "source": [
    "Generate a signal that is sparse w.r.t. $D$\n",
    "-----------------------------------------\n",
    "To this purpose add a spike to the sum of few DCT atoms, i.e., add a spike to s that is sparse w.r.t. D. Bear in mind that the spike is to be considered a signal to be reconstructed, rather than noise"
   ]
  },
  {
   "cell_type": "code",
   "execution_count": 17,
   "metadata": {
    "id": "RWfXEyuaxAlj"
   },
   "outputs": [],
   "source": [
    "L = 4\n",
    "sigma_noise = 0.2"
   ]
  },
  {
   "cell_type": "markdown",
   "metadata": {
    "id": "kui72O2dw3xc"
   },
   "source": [
    "Randomly define the coefficients of a sparse representation w.r.t. $D$ (make sure the nonzero coefficients are sufficiently large)"
   ]
  },
  {
   "cell_type": "code",
   "execution_count": 18,
   "metadata": {
    "id": "PHuWhKkwFdIR"
   },
   "outputs": [
    {
     "data": {
      "text/plain": [
       "array([0.22322311, 0.        , 0.        , 0.        , 0.        ,\n",
       "       0.        , 0.        , 0.        , 0.        , 0.        ,\n",
       "       0.        , 0.        , 0.32839015, 0.        , 0.        ,\n",
       "       0.        , 0.        , 0.        , 0.        , 0.55550858,\n",
       "       0.        , 0.        , 0.65738518, 0.        , 0.        ,\n",
       "       0.        , 0.        , 0.        , 0.        , 0.        ,\n",
       "       0.        , 0.        , 0.        , 0.        , 0.        ,\n",
       "       0.        , 0.        , 0.        , 0.        , 0.        ,\n",
       "       0.        , 0.        , 0.        , 0.        , 0.        ,\n",
       "       0.        , 0.        , 0.        , 0.        , 0.        ,\n",
       "       0.        , 0.        , 0.        , 0.        , 0.        ,\n",
       "       0.        , 0.        , 0.        , 0.        , 0.        ,\n",
       "       0.        , 0.        , 0.        , 0.        ])"
      ]
     },
     "execution_count": 18,
     "metadata": {},
     "output_type": "execute_result"
    }
   ],
   "source": [
    "x0 = np.zeros(N)\n",
    "positions = np.random.choice(M, L, replace=False)\n",
    "x0[positions] = np.random.rand(L)\n",
    "x0"
   ]
  },
  {
   "cell_type": "markdown",
   "metadata": {
    "id": "-fDtRB_B2FsY"
   },
   "source": [
    "Choose spike location"
   ]
  },
  {
   "cell_type": "code",
   "execution_count": 19,
   "metadata": {
    "id": "5fej2dZ72HT6"
   },
   "outputs": [
    {
     "name": "stdout",
     "output_type": "stream",
     "text": [
      "19\n"
     ]
    }
   ],
   "source": [
    "spikeLocation = np.random.choice(positions)\n",
    "print(spikeLocation)\n",
    "# x0 = to ask, should the spike be in x0 instead of s0?"
   ]
  },
  {
   "cell_type": "markdown",
   "metadata": {
    "id": "yj3t4oWxwpOH"
   },
   "source": [
    "Synthetize the corresponding signal in the signal domain and add noise\n"
   ]
  },
  {
   "cell_type": "code",
   "execution_count": 20,
   "metadata": {
    "id": "yOPV-2k9wv7O"
   },
   "outputs": [
    {
     "name": "stdout",
     "output_type": "stream",
     "text": [
      "(32,)\n",
      "[ 0.26792358 -0.27086967  0.05638639  0.17627208 -0.14359513  0.15375791\n",
      "  0.19712928 -0.15336395 -0.02123448  0.09874596  0.09584047  0.12322229\n",
      " -0.08760191 -0.00660974  0.14021283 -0.08129723  0.14179711  0.23378543\n",
      " -0.28402946  0.65390969  0.36146009 -0.10996188 -0.02000931  0.25351354\n",
      " -0.19411897 -0.05395762  0.34028629 -0.00080089 -0.09315826  0.07001515\n",
      " -0.00935176  0.10246554]\n",
      "(32,)\n"
     ]
    }
   ],
   "source": [
    "# s0 = Dx\n",
    "s0 = np.dot(D,x0) # noise free\n",
    "print(s0.shape)\n",
    "\n",
    "#add spike to s0\n",
    "lambda_spike = np.random.uniform(3,4) + (2*np.abs(max(s0))/s0[spikeLocation]) # para que al menos sea el doble de la señal mas intensa\n",
    "s0[spikeLocation] = lambda_spike * s0[spikeLocation]\n",
    "print(s0)\n",
    "\n",
    "# add noise\n",
    "sigma = 10/255\n",
    "sigma_noise = sigma * (np.random.normal(size=s0.shape))\n",
    "\n",
    "# s = s0 + eta\n",
    "s = s0 + sigma_noise\n",
    "print(s.shape)"
   ]
  },
  {
   "cell_type": "markdown",
   "metadata": {
    "id": "KRBSmSG5GIPe"
   },
   "source": [
    "Plot the sparse signal"
   ]
  },
  {
   "cell_type": "code",
   "execution_count": 21,
   "metadata": {
    "id": "m1NfJRxKGKFu"
   },
   "outputs": [
    {
     "data": {
      "text/plain": [
       "<matplotlib.legend.Legend at 0x26158ad0150>"
      ]
     },
     "execution_count": 21,
     "metadata": {},
     "output_type": "execute_result"
    },
    {
     "data": {
      "image/png": "[encoded data removed]",
      "text/plain": [
       "<Figure size 600x600 with 1 Axes>"
      ]
     },
     "metadata": {},
     "output_type": "display_data"
    }
   ],
   "source": [
    "LN_WDT = 2\n",
    "MRK_SZ = 10\n",
    "\n",
    "plt.figure(figsize=(6, 6))\n",
    "plt.plot(s0, 'b--', linewidth=LN_WDT+1)\n",
    "plt.plot(s, 'r--x', linewidth=LN_WDT-1)\n",
    "plt.title(f'Sparse signal in DCT domain (L = {L:.0f})')\n",
    "plt.legend(['original', 'noisy'])\n"
   ]
  },
  {
   "cell_type": "markdown",
   "metadata": {
    "id": "Y4O1zq_JGPeL"
   },
   "source": [
    "Orthogonal Matching Pursuit\n",
    "---------------------------\n",
    "\n",
    "Initialize all the variables, including the residual, namely the components of the signals that can not be represented (here the signal at the very beginning)"
   ]
  },
  {
   "cell_type": "code",
   "execution_count": null,
   "metadata": {
    "id": "9OtzbfA_GRIA"
   },
   "outputs": [],
   "source": [
    "#x_OMP =\n",
    "\n",
    "# residual\n",
    "# r =\n",
    "\n",
    "# support set\n",
    "omega = []\n",
    "\n",
    "MINIMUM_NORM_RES = 0.1"
   ]
  },
  {
   "cell_type": "markdown",
   "metadata": {
    "id": "UDzCdJkvxazx"
   },
   "source": [
    "OMP loop starts.\n",
    "\n",
    "Stoppint criteria: continue until the sparsity of the representation reaches L"
   ]
  },
  {
   "cell_type": "code",
   "execution_count": null,
   "metadata": {
    "id": "_smviSBHxeMY"
   },
   "outputs": [],
   "source": [
    "while #STOPPING CRITERIA:\n",
    "\n",
    "    # SWEEP STEP: look for the column of D that matches at best noisySignal\n",
    "    # compute the residual w.r.t. each column of D\n",
    "    e = np.zeros(N)\n",
    "    for j in range(N):\n",
    "#         e[j] =\n",
    "\n",
    "    # find the column of D that matches at best r\n",
    "#    jStar =\n",
    "\n",
    "    # UPDATE the support set with the jStar coefficient\n",
    "#    omega\n",
    "\n",
    "    # update the coefficients by solving the least square problem min ||D_omega x - s ||\n",
    "#   x_OMP =\n",
    "\n",
    "    # update the residual\n",
    "#    r =\n"
   ]
  },
  {
   "cell_type": "markdown",
   "metadata": {
    "id": "o_0Wg_caxo6Y"
   },
   "source": [
    "SYNTHESIS: reconstruct the signal, by inverting the transformation to reconstruct the signal"
   ]
  },
  {
   "cell_type": "code",
   "execution_count": null,
   "metadata": {
    "id": "lTZ2OY_Pxrix"
   },
   "outputs": [],
   "source": [
    "# s_hat_OMP ="
   ]
  },
  {
   "cell_type": "markdown",
   "metadata": {
    "id": "QtauqPDBChHm"
   },
   "source": [
    "Show the result"
   ]
  },
  {
   "cell_type": "code",
   "execution_count": null,
   "metadata": {
    "id": "WpUm6mJ2xxxo"
   },
   "outputs": [],
   "source": [
    "LN_WDT = 2\n",
    "MRK_SZ = 10\n",
    "\n",
    "fix, ax = plt.subplots(1, 2, figsize=(16, 8))\n",
    "ax[0].plot(s0, 'b-o', linewidth=LN_WDT + 1)\n",
    "ax[0].plot(s, 'r-x', linewidth=LN_WDT - 1)\n",
    "ax[0].plot(s_hat_OMP, 'm-', linewidth=LN_WDT)\n",
    "ax[0].set_title(f'Sparse signal w.r.t D (L = {L:.0f})')\n",
    "ax[0].legend(['original (s0)', 'noisy (s)', 'MP estimate'])\n",
    "\n",
    "ax[1].stem(x0, linefmt='b-', markerfmt='C0o')\n",
    "ax[1].stem(x_OMP, linefmt='m-.', markerfmt='C1o')\n",
    "ax[1].set_title('Coefficients')\n",
    "ax[1].legend(['coefficients of s0 (x0)', 'coefficients of s_hat (x_hat)'])"
   ]
  },
  {
   "cell_type": "markdown",
   "metadata": {
    "id": "1SBgScySIOIf"
   },
   "source": [
    "Least Squares Orthogonal Matching Pursuit\n",
    "-----------------------------------------\n",
    "\n",
    "Initialize all the variables, including the residual, namely the components of the signals that can not be represented (here the signal at the very beginning)"
   ]
  },
  {
   "cell_type": "code",
   "execution_count": null,
   "metadata": {
    "id": "wHzB_2XNIOIh"
   },
   "outputs": [],
   "source": [
    "# x_LSOMP =\n",
    "\n",
    "# residual\n",
    "# r =\n",
    "\n",
    "# support set\n",
    "omega = []\n",
    "\n",
    "MINIMUM_NORM_RES = 0.1"
   ]
  },
  {
   "cell_type": "markdown",
   "metadata": {
    "id": "wU2aEYMWIOIi"
   },
   "source": [
    "LSOMP loop starts.\n",
    "\n",
    "Stoppint criteria: continue until the sparsity of the representation reaches L"
   ]
  },
  {
   "cell_type": "code",
   "execution_count": null,
   "metadata": {
    "id": "ofzPhdbjIOIi"
   },
   "outputs": [],
   "source": [
    "while # STOPPING CRITERIA:\n",
    "    # SWEEP STEP: find the best column by solving the LS problem\n",
    "    if len(omega) == 0:\n",
    "        # at the first iteration perform the usual sweep step\n",
    "        # x_LSOMP =\n",
    "    else:\n",
    "        # perform the sweep step by solving the LS problem\n",
    "        # jStar =\n",
    "\n",
    "        # UPDATE the support set with the jStar coefficient\n",
    "        # omega\n",
    "        # update the coefficients\n",
    "        # x_LSOMP =\n",
    "\n",
    "    # update the residual\n",
    "    # r =\n",
    "\n"
   ]
  },
  {
   "cell_type": "markdown",
   "metadata": {
    "id": "adHl4lGAIOIj"
   },
   "source": [
    "SYNTHESIS: reconstruct the signal, by inverting the transformation to reconstruct the signal"
   ]
  },
  {
   "cell_type": "code",
   "execution_count": null,
   "metadata": {
    "id": "xj9TlXM7IOIk"
   },
   "outputs": [],
   "source": [
    "# s_hat_LSOMP ="
   ]
  },
  {
   "cell_type": "markdown",
   "metadata": {
    "id": "SUrVtHT1IOIk"
   },
   "source": [
    "Show the result"
   ]
  },
  {
   "cell_type": "code",
   "execution_count": null,
   "metadata": {
    "id": "sKJfPlhlIOIl"
   },
   "outputs": [],
   "source": [
    "LN_WDT = 2\n",
    "MRK_SZ = 10\n",
    "\n",
    "fix, ax = plt.subplots(1, 2, figsize=(16, 8))\n",
    "ax[0].plot(s0, 'b-o', linewidth=LN_WDT + 1)\n",
    "ax[0].plot(s, 'r-x', linewidth=LN_WDT - 1)\n",
    "ax[0].plot(s_hat_LSOMP, 'm-', linewidth=LN_WDT)\n",
    "ax[0].set_title(f'Sparse signal w.r.t D (L = {L:.0f})')\n",
    "ax[0].legend(['original (s0)', 'noisy (s)', 'MP estimate'])\n",
    "\n",
    "ax[1].stem(x0, linefmt='b-', markerfmt='C0o')\n",
    "ax[1].stem(x_LSOMP, linefmt='m-.', markerfmt='C1o')\n",
    "ax[1].set_title('Coefficients')\n",
    "ax[1].legend(['coefficients of s0 (x0)', 'coefficients of s_hat (x_hat)'])"
   ]
  }
 ],
 "metadata": {
  "colab": {
   "authorship_tag": "ABX9TyNkqUyKvo5dVOalLKSBkH33",
   "provenance": []
  },
  "kernelspec": {
   "display_name": "Python 3 (ipykernel)",
   "language": "python",
   "name": "python3"
  },
  "language_info": {
   "codemirror_mode": {
    "name": "ipython",
    "version": 3
   },
   "file_extension": ".py",
   "mimetype": "text/x-python",
   "name": "python",
   "nbconvert_exporter": "python",
   "pygments_lexer": "ipython3",
   "version": "3.11.7"
  }
 },
 "nbformat": 4,
 "nbformat_minor": 4
}
