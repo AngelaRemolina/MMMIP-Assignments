{
 "cells": [
  {
   "cell_type": "code",
   "execution_count": 36,
   "metadata": {
    "executionInfo": {
     "elapsed": 63,
     "status": "ok",
     "timestamp": 1710194618719,
     "user": {
      "displayName": "Diego Carrera",
      "userId": "06552745026585804274"
     },
     "user_tz": -60
    },
    "id": "opwp5eU9E-8f"
   },
   "outputs": [],
   "source": [
    "import numpy as np\n",
    "from matplotlib import pyplot as plt\n",
    "import scipy as sp\n",
    "from scipy.fftpack import idct"
   ]
  },
  {
   "cell_type": "markdown",
   "metadata": {
    "id": "7j9pcXTvFl_h"
   },
   "source": [
    "Variable initialization"
   ]
  },
  {
   "cell_type": "code",
   "execution_count": 37,
   "metadata": {
    "executionInfo": {
     "elapsed": 62,
     "status": "ok",
     "timestamp": 1710194618723,
     "user": {
      "displayName": "Diego Carrera",
      "userId": "06552745026585804274"
     },
     "user_tz": -60
    },
    "id": "u7PgrQa4Fkln"
   },
   "outputs": [],
   "source": [
    "M = 32 # signal dimension\n",
    "N = 2 * M # number of atoms in the expansion\n",
    "\n",
    "\n",
    "C = np.zeros((M, M)) # matrix containing the standard basis (a kronecker delta in each column)\n",
    "DCT = np.zeros((M, M)) #matrix containing the DCT basis (a DCT function in each column)"
   ]
  },
  {
   "cell_type": "markdown",
   "metadata": {
    "id": "-NB1-MvmFsot"
   },
   "source": [
    "Generate the 1D-DCT basis"
   ]
  },
  {
   "cell_type": "code",
   "execution_count": 38,
   "metadata": {
    "colab": {
     "base_uri": "https://localhost:8080/",
     "height": 111
    },
    "executionInfo": {
     "elapsed": 60,
     "status": "error",
     "timestamp": 1710194618723,
     "user": {
      "displayName": "Diego Carrera",
      "userId": "06552745026585804274"
     },
     "user_tz": -60
    },
    "id": "Rey7kIlUF22r",
    "outputId": "acdd62dd-0c2a-4100-c323-3aceaab6a830"
   },
   "outputs": [],
   "source": [
    "for i in range(M):\n",
    "    a = np.zeros(M)\n",
    "    a[i] = 1\n",
    "    temp = np.reshape(idct(a),-1)\n",
    "    norm = np.linalg.norm(temp)\n",
    "    DCT[:, i] = temp/norm\n"
   ]
  },
  {
   "cell_type": "markdown",
   "metadata": {
    "id": "xJV-_dFw1XCf"
   },
   "source": [
    "Generating the 1-D standard basis"
   ]
  },
  {
   "cell_type": "code",
   "execution_count": 39,
   "metadata": {
    "executionInfo": {
     "elapsed": 51,
     "status": "aborted",
     "timestamp": 1710194618725,
     "user": {
      "displayName": "Diego Carrera",
      "userId": "06552745026585804274"
     },
     "user_tz": -60
    },
    "id": "NzxgsbAn1TYl"
   },
   "outputs": [],
   "source": [
    "for i in range(M):\n",
    "    a = np.zeros(M)\n",
    "    a[i]=1\n",
    "    C[:, i] = a\n"
   ]
  },
  {
   "cell_type": "markdown",
   "metadata": {
    "id": "ps3YDsYVBlG9"
   },
   "source": [
    "Define the dictionary $D = [DCT, C]$"
   ]
  },
  {
   "cell_type": "code",
   "execution_count": 40,
   "metadata": {
    "executionInfo": {
     "elapsed": 51,
     "status": "aborted",
     "timestamp": 1710194618726,
     "user": {
      "displayName": "Diego Carrera",
      "userId": "06552745026585804274"
     },
     "user_tz": -60
    },
    "id": "dj_bmbLx1Y6J"
   },
   "outputs": [
    {
     "data": {
      "text/plain": [
       "Text(0.5, 1.0, 'Our dictionary M = 32, N = 64')"
      ]
     },
     "execution_count": 40,
     "metadata": {},
     "output_type": "execute_result"
    },
    {
     "data": {
      "image/png": "[encoded data removed]",
      "text/plain": [
       "<Figure size 1000x1000 with 1 Axes>"
      ]
     },
     "metadata": {},
     "output_type": "display_data"
    }
   ],
   "source": [
    "D = np.hstack((DCT, C)) # A = np.concatenate((C, D), axis=1)\n",
    "\n",
    "plt.figure(figsize=(10,10))\n",
    "plt.imshow(D)\n",
    "plt.title(f'Our dictionary M = {M}, N = {N}')"
   ]
  },
  {
   "cell_type": "markdown",
   "metadata": {
    "id": "Cq78PWSDFw7G"
   },
   "source": [
    "Generate a signal that is sparse w.r.t. $[D, C]$\n",
    "-----------------------------------------\n",
    "To this purpose add a spike to the sum of few DCT atoms, i.e., add a spike to s that is sparse w.r.t. D. Bear in mind that the spike is to be considered a signal to be reconstructed, rather than noise"
   ]
  },
  {
   "cell_type": "code",
   "execution_count": 41,
   "metadata": {
    "executionInfo": {
     "elapsed": 53,
     "status": "aborted",
     "timestamp": 1710194618728,
     "user": {
      "displayName": "Diego Carrera",
      "userId": "06552745026585804274"
     },
     "user_tz": -60
    },
    "id": "RWfXEyuaxAlj"
   },
   "outputs": [],
   "source": [
    "L = 5\n",
    "sigma_noise = 0.2"
   ]
  },
  {
   "cell_type": "markdown",
   "metadata": {
    "id": "kui72O2dw3xc"
   },
   "source": [
    "Randomly define the coefficients of a sparse representation w.r.t. $D$ (make sure the nonzero coefficients are sufficiently large)"
   ]
  },
  {
   "cell_type": "code",
   "execution_count": 46,
   "metadata": {
    "executionInfo": {
     "elapsed": 53,
     "status": "aborted",
     "timestamp": 1710194618729,
     "user": {
      "displayName": "Diego Carrera",
      "userId": "06552745026585804274"
     },
     "user_tz": -60
    },
    "id": "PHuWhKkwFdIR"
   },
   "outputs": [
    {
     "data": {
      "text/plain": [
       "array([0.49165704, 0.35000522, 0.        , 0.        , 0.        ,\n",
       "       0.        , 0.        , 0.        , 0.        , 0.        ,\n",
       "       0.        , 0.        , 0.67236162, 0.        , 0.        ,\n",
       "       0.        , 0.        , 0.51664961, 0.        , 0.        ,\n",
       "       0.        , 0.        , 0.        , 0.        , 0.        ,\n",
       "       0.38924806, 0.        , 0.        , 0.        , 0.        ,\n",
       "       0.        , 0.        , 0.        , 0.        , 0.        ,\n",
       "       0.        , 0.        , 0.        , 0.        , 0.        ,\n",
       "       0.        , 0.        , 0.        , 0.        , 0.        ,\n",
       "       0.        , 0.        , 0.        , 0.        , 0.        ,\n",
       "       0.        , 0.        , 0.        , 0.        , 0.        ,\n",
       "       0.        , 0.        , 0.        , 0.        , 0.        ,\n",
       "       0.        , 0.        , 0.        , 0.        ])"
      ]
     },
     "execution_count": 46,
     "metadata": {},
     "output_type": "execute_result"
    }
   ],
   "source": [
    "x0 = np.zeros(N)\n",
    "positions = np.random.choice(M, L, replace=False)\n",
    "x0[positions] = np.random.rand(L)\n",
    "x0"
   ]
  },
  {
   "cell_type": "markdown",
   "metadata": {
    "id": "-fDtRB_B2FsY"
   },
   "source": [
    "\n",
    "\n",
    "Choose spike location and update x0"
   ]
  },
  {
   "cell_type": "code",
   "execution_count": 47,
   "metadata": {
    "executionInfo": {
     "elapsed": 54,
     "status": "aborted",
     "timestamp": 1710194618730,
     "user": {
      "displayName": "Diego Carrera",
      "userId": "06552745026585804274"
     },
     "user_tz": -60
    },
    "id": "5fej2dZ72HT6"
   },
   "outputs": [
    {
     "data": {
      "text/plain": [
       "array([0.49165704, 0.35000522, 0.        , 0.        , 0.        ,\n",
       "       0.        , 0.        , 0.        , 0.        , 0.        ,\n",
       "       0.        , 0.        , 3.89914983, 0.        , 0.        ,\n",
       "       0.        , 0.        , 0.51664961, 0.        , 0.        ,\n",
       "       0.        , 0.        , 0.        , 0.        , 0.        ,\n",
       "       0.38924806, 0.        , 0.        , 0.        , 0.        ,\n",
       "       0.        , 0.        , 0.        , 0.        , 0.        ,\n",
       "       0.        , 0.        , 0.        , 0.        , 0.        ,\n",
       "       0.        , 0.        , 0.        , 0.        , 0.        ,\n",
       "       0.        , 0.        , 0.        , 0.        , 0.        ,\n",
       "       0.        , 0.        , 0.        , 0.        , 0.        ,\n",
       "       0.        , 0.        , 0.        , 0.        , 0.        ,\n",
       "       0.        , 0.        , 0.        , 0.        ])"
      ]
     },
     "execution_count": 47,
     "metadata": {},
     "output_type": "execute_result"
    }
   ],
   "source": [
    "spikeLocation = np.random.choice(positions)\n",
    "# x0[spikeLocation] = \n",
    "lambda_spike = np.random.uniform(3,4) + (2*np.abs(max(x0))/x0[spikeLocation]) # para que al menos sea el doble de la señal mas intensa\n",
    "x0[spikeLocation] = lambda_spike * x0[spikeLocation]\n",
    "x0"
   ]
  },
  {
   "cell_type": "markdown",
   "metadata": {
    "id": "yj3t4oWxwpOH"
   },
   "source": [
    "Synthetize the corresponding signal in the signal domain and add noise\n"
   ]
  },
  {
   "cell_type": "code",
   "execution_count": 48,
   "metadata": {
    "executionInfo": {
     "elapsed": 54,
     "status": "aborted",
     "timestamp": 1710194618731,
     "user": {
      "displayName": "Diego Carrera",
      "userId": "06552745026585804274"
     },
     "user_tz": -60
    },
    "id": "yOPV-2k9wv7O"
   },
   "outputs": [
    {
     "name": "stdout",
     "output_type": "stream",
     "text": [
      "(32,)\n",
      "(32,)\n"
     ]
    }
   ],
   "source": [
    "# s0 = Dx\n",
    "x0 = x0.T\n",
    "s0 = np.dot(D,x0) # noise free\n",
    "print(s0.shape)\n",
    "\n",
    "sigma = 10/255\n",
    "sigma_noise = sigma * (np.random.normal(size=s0.shape))\n",
    "\n",
    "# s = s0 + eta\n",
    "s = s0 + sigma_noise\n",
    "print(s.shape)"
   ]
  },
  {
   "cell_type": "markdown",
   "metadata": {
    "id": "KRBSmSG5GIPe"
   },
   "source": [
    "Plot the sparse signal"
   ]
  },
  {
   "cell_type": "code",
   "execution_count": 49,
   "metadata": {
    "executionInfo": {
     "elapsed": 55,
     "status": "aborted",
     "timestamp": 1710194618732,
     "user": {
      "displayName": "Diego Carrera",
      "userId": "06552745026585804274"
     },
     "user_tz": -60
    },
    "id": "m1NfJRxKGKFu"
   },
   "outputs": [
    {
     "data": {
      "text/plain": [
       "<matplotlib.legend.Legend at 0x29ee597ad90>"
      ]
     },
     "execution_count": 49,
     "metadata": {},
     "output_type": "execute_result"
    },
    {
     "data": {
      "image/png": "[encoded data removed]",
      "text/plain": [
       "<Figure size 600x600 with 1 Axes>"
      ]
     },
     "metadata": {},
     "output_type": "display_data"
    }
   ],
   "source": [
    "LN_WDT = 2\n",
    "MRK_SZ = 10\n",
    "\n",
    "plt.figure(figsize=(6, 6))\n",
    "plt.plot(s0, 'b--', linewidth=LN_WDT+1)\n",
    "plt.plot(s, 'r--x', linewidth=LN_WDT-1)\n",
    "plt.title(f'Sparse signal in DCT domain (L = {L:.0f})')\n",
    "plt.legend(['original', 'noisy'])\n"
   ]
  },
  {
   "cell_type": "markdown",
   "metadata": {
    "id": "Y4O1zq_JGPeL"
   },
   "source": [
    "Matching Pursuit\n",
    "----------------\n",
    "\n",
    "Initialize all the variables, including the residual, namely the components of the signals that can not be represented (here the signal at the very beginning)"
   ]
  },
  {
   "cell_type": "code",
   "execution_count": 55,
   "metadata": {
    "executionInfo": {
     "elapsed": 57,
     "status": "aborted",
     "timestamp": 1710194618734,
     "user": {
      "displayName": "Diego Carrera",
      "userId": "06552745026585804274"
     },
     "user_tz": -60
    },
    "id": "9OtzbfA_GRIA"
   },
   "outputs": [
    {
     "name": "stdout",
     "output_type": "stream",
     "text": [
      "(32,)\n"
     ]
    }
   ],
   "source": [
    "x_MP = np.zeros(N)\n",
    "\n",
    "r = s\n",
    "print(r.shape)\n",
    "l = 1 # cont\n",
    "\n",
    "#initialize the norm of the resiudal (components not represented by the coefficients)\n",
    "\n",
    "resNorm = np.linalg.norm(r,1)\n",
    "\n",
    "MINIMUM_RES_NORM = 0.1"
   ]
  },
  {
   "cell_type": "markdown",
   "metadata": {
    "id": "UDzCdJkvxazx"
   },
   "source": [
    "MP loop starts.\n",
    "\n",
    "Stoppint criteria: continue until the sparsity of the representation reaches L or as long as resNorm(l) is above a minimum value or as long as a maxium number of iterations have been reached"
   ]
  },
  {
   "cell_type": "code",
   "execution_count": null,
   "metadata": {},
   "outputs": [],
   "source": []
  },
  {
   "cell_type": "code",
   "execution_count": null,
   "metadata": {
    "executionInfo": {
     "elapsed": 57,
     "status": "aborted",
     "timestamp": 1710194618734,
     "user": {
      "displayName": "Diego Carrera",
      "userId": "06552745026585804274"
     },
     "user_tz": -60
    },
    "id": "_smviSBHxeMY"
   },
   "outputs": [],
   "source": [
    "while np.count_nonzero(x_MP) < L and resNorm > MINIMUM_RES_NORM and l < 2*L:\n",
    "\n",
    "    # SWEEP STEP: look for the column of D that matches at best noisySignal\n",
    "    # compute the residual w.r.t. each column of D\n",
    "    e = np.zeros(N)\n",
    "    for j in range(N):\n",
    "        argmax = np.dot(r.T, D[:,j]) # dot product between 2 vectors = escalar\n",
    "        e[j] = np.linalg.norm(r) - argmax\n",
    "        # this corresponds to solving e(j) = min( || dj zj - s ||),\n",
    "        # which is obtained by setting zj = dj' r / || dj ||^2 (analytically defined)\n",
    "        # there is no need to divide by || dj ||^2 since columns are nomalized\n",
    "\n",
    "    # find the column of D that matches at best r, i.e. jStar = argmin(e(j))\n",
    "    jStar = np.argmin(e) # index where the minimum value of e is located\n",
    "\n",
    "    # UPDATE the jStar coefficient by *summing* the new component dj' r^(i) / || dj ||^2\n",
    "    # x_MP[jStar] =\n",
    "\n",
    "    # remove the signal we have so far represented in coeff_MP (update the residual)\n",
    "    # r =  # component that cannot be captured by the signal (the signal at the very beginning)\n",
    "\n",
    "    l = l + 1\n",
    "\n",
    "    # update the residual norm\n",
    "    # resNorm ="
   ]
  },
  {
   "cell_type": "markdown",
   "metadata": {
    "id": "o_0Wg_caxo6Y"
   },
   "source": [
    "SYNTHESIS: reconstruct the signal, by inverting the transformation to reconstruct the signal"
   ]
  },
  {
   "cell_type": "code",
   "execution_count": null,
   "metadata": {
    "executionInfo": {
     "elapsed": 57,
     "status": "aborted",
     "timestamp": 1710194618735,
     "user": {
      "displayName": "Diego Carrera",
      "userId": "06552745026585804274"
     },
     "user_tz": -60
    },
    "id": "lTZ2OY_Pxrix"
   },
   "outputs": [],
   "source": [
    "# s_hat_MP ="
   ]
  },
  {
   "cell_type": "markdown",
   "metadata": {
    "id": "X1c_yWofxvoV"
   },
   "source": [
    "Those part of the signal that have not been modeled by s_hat (i.e. the projection on the subspace of the L most involved coefficients) corresponds to the norm of the residual"
   ]
  },
  {
   "cell_type": "code",
   "execution_count": null,
   "metadata": {
    "executionInfo": {
     "elapsed": 58,
     "status": "aborted",
     "timestamp": 1710194618736,
     "user": {
      "displayName": "Diego Carrera",
      "userId": "06552745026585804274"
     },
     "user_tz": -60
    },
    "id": "KDtpZrGFCdGB"
   },
   "outputs": [],
   "source": [
    "# resNorm_MP =\n"
   ]
  },
  {
   "cell_type": "markdown",
   "metadata": {
    "id": "QtauqPDBChHm"
   },
   "source": [
    "Show the result"
   ]
  },
  {
   "cell_type": "code",
   "execution_count": null,
   "metadata": {
    "executionInfo": {
     "elapsed": 58,
     "status": "aborted",
     "timestamp": 1710194618737,
     "user": {
      "displayName": "Diego Carrera",
      "userId": "06552745026585804274"
     },
     "user_tz": -60
    },
    "id": "WpUm6mJ2xxxo"
   },
   "outputs": [],
   "source": [
    "LN_WDT = 2\n",
    "MRK_SZ = 10\n",
    "\n",
    "fix, ax = plt.subplots(1, 2, figsize=(12, 6))\n",
    "ax[0].plot(s0, 'b-o', linewidth=LN_WDT + 1)\n",
    "ax[0].plot(s, 'r-x', linewidth=LN_WDT - 1)\n",
    "ax[0].plot(s_hat_MP, 'm-', linewidth=LN_WDT)\n",
    "ax[0].set_title(f'Sparse signal in DCT domain (L = {L:.0f})')\n",
    "ax[0].legend(['original (s0)', 'noisy (s)', 'MP estimate'])\n",
    "\n",
    "ax[1].stem(x0, linefmt='b-', markerfmt='C0o')\n",
    "ax[1].stem(x_MP, linefmt='m-.', markerfmt='C1o')\n",
    "ax[1].set_title('DCT Coefficients')\n",
    "ax[1].legend(['coefficients of s0 (x0)', 'coefficients of s_hat (x_hat)'])\n",
    "\n"
   ]
  }
 ],
 "metadata": {
  "colab": {
   "authorship_tag": "ABX9TyOf7DBwQepZIZRwYwJoCKBY",
   "provenance": []
  },
  "kernelspec": {
   "display_name": "Python 3 (ipykernel)",
   "language": "python",
   "name": "python3"
  },
  "language_info": {
   "codemirror_mode": {
    "name": "ipython",
    "version": 3
   },
   "file_extension": ".py",
   "mimetype": "text/x-python",
   "name": "python",
   "nbconvert_exporter": "python",
   "pygments_lexer": "ipython3",
   "version": "3.11.7"
  }
 },
 "nbformat": 4,
 "nbformat_minor": 4
}
